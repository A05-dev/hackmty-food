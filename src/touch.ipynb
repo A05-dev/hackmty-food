{
 "cells": [
  {
   "cell_type": "code",
   "execution_count": 1,
   "metadata": {},
   "outputs": [
    {
     "name": "stdout",
     "output_type": "stream",
     "text": [
      "loading Roboflow workspace...\n",
      "loading Roboflow project...\n"
     ]
    }
   ],
   "source": [
    "from roboflow import Roboflow\n",
    "rf = Roboflow(api_key=\"5fLOPWRg1OT4LIUuGTsX\")\n",
    "project = rf.workspace().project(\"sandoval_fridge\")\n",
    "model = project.version(3).model\n",
    "\n",
    "# infer on a local image\n",
    "\n",
    "# visualize your prediction\n",
    "# model.predict(\"your_image.jpg\", confidence=40, overlap=30).save(\"prediction.jpg\")\n",
    "\n",
    "# infer on an image hosted elsewhere\n",
    "# print(model.predict(\"URL_OF_YOUR_IMAGE\", hosted=True, confidence=40, overlap=30).json())"
   ]
  },
  {
   "cell_type": "code",
   "execution_count": 7,
   "metadata": {},
   "outputs": [
    {
     "name": "stdout",
     "output_type": "stream",
     "text": [
      "<class 'dict'>\n",
      "{'predictions': [{'x': 399, 'y': 1013, 'width': 56, 'height': 42, 'confidence': 0.9890433549880981, 'class': 'orange', 'class_id': 8, 'image_path': 'assets/2.jpeg', 'prediction_type': 'ObjectDetectionModel'}, {'x': 348, 'y': 1006, 'width': 48, 'height': 42, 'confidence': 0.9853593111038208, 'class': 'avocado', 'class_id': 1, 'image_path': 'assets/2.jpeg', 'prediction_type': 'ObjectDetectionModel'}, {'x': 608, 'y': 1005, 'width': 58, 'height': 55, 'confidence': 0.9817637205123901, 'class': 'avocado', 'class_id': 1, 'image_path': 'assets/2.jpeg', 'prediction_type': 'ObjectDetectionModel'}, {'x': 492, 'y': 705, 'width': 76, 'height': 75, 'confidence': 0.9310282468795776, 'class': 'milk', 'class_id': 7, 'image_path': 'assets/2.jpeg', 'prediction_type': 'ObjectDetectionModel'}, {'x': 413, 'y': 708, 'width': 95, 'height': 77, 'confidence': 0.9268764853477478, 'class': 'juice', 'class_id': 6, 'image_path': 'assets/2.jpeg', 'prediction_type': 'ObjectDetectionModel'}, {'x': 718, 'y': 992, 'width': 60, 'height': 55, 'confidence': 0.9110139608383179, 'class': 'avocado', 'class_id': 1, 'image_path': 'assets/2.jpeg', 'prediction_type': 'ObjectDetectionModel'}, {'x': 516, 'y': 992, 'width': 50, 'height': 45, 'confidence': 0.8491873741149902, 'class': 'apple', 'class_id': 0, 'image_path': 'assets/2.jpeg', 'prediction_type': 'ObjectDetectionModel'}, {'x': 161, 'y': 1276, 'width': 131, 'height': 227, 'confidence': 0.8219552040100098, 'class': 'milk', 'class_id': 7, 'image_path': 'assets/2.jpeg', 'prediction_type': 'ObjectDetectionModel'}, {'x': 600, 'y': 492, 'width': 180, 'height': 135, 'confidence': 0.8070927858352661, 'class': 'bread', 'class_id': 2, 'image_path': 'assets/2.jpeg', 'prediction_type': 'ObjectDetectionModel'}, {'x': 662, 'y': 1000, 'width': 58, 'height': 60, 'confidence': 0.71308833360672, 'class': 'apple', 'class_id': 0, 'image_path': 'assets/2.jpeg', 'prediction_type': 'ObjectDetectionModel'}, {'x': 938, 'y': 1337, 'width': 219, 'height': 210, 'confidence': 0.6860628128051758, 'class': 'egg', 'class_id': 5, 'image_path': 'assets/2.jpeg', 'prediction_type': 'ObjectDetectionModel'}, {'x': 610, 'y': 840, 'width': 95, 'height': 80, 'confidence': 0.5231884121894836, 'class': 'cabagge', 'class_id': 3, 'image_path': 'assets/2.jpeg', 'prediction_type': 'ObjectDetectionModel'}], 'image': {'width': '1200', 'height': '1600'}}\n"
     ]
    }
   ],
   "source": [
    "prediction = model.predict(\"assets/2.jpeg\", confidence=40, overlap=30).json()\n",
    "print(type(prediction))\n",
    "print(prediction)"
   ]
  },
  {
   "cell_type": "code",
   "execution_count": 8,
   "metadata": {},
   "outputs": [
    {
     "name": "stdout",
     "output_type": "stream",
     "text": [
      "['orange', 'bread', 'juice', 'apple', 'milk', 'avocado', 'cabagge', 'egg']\n"
     ]
    }
   ],
   "source": [
    "# Assuming you already have the `prediction` dictionary\n",
    "unique_classes = set()\n",
    "\n",
    "for item in prediction[\"predictions\"]:\n",
    "    unique_classes.add(item[\"class\"])\n",
    "\n",
    "# Convert the set to a list if needed\n",
    "classes = list(unique_classes)\n",
    "\n",
    "# Print the array of unique \"class\" elements\n",
    "print(classes)"
   ]
  }
 ],
 "metadata": {
  "kernelspec": {
   "display_name": "Python 3",
   "language": "python",
   "name": "python3"
  },
  "language_info": {
   "codemirror_mode": {
    "name": "ipython",
    "version": 3
   },
   "file_extension": ".py",
   "mimetype": "text/x-python",
   "name": "python",
   "nbconvert_exporter": "python",
   "pygments_lexer": "ipython3",
   "version": "3.11.5"
  },
  "orig_nbformat": 4
 },
 "nbformat": 4,
 "nbformat_minor": 2
}
