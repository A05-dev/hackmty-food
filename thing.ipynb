{
 "cells": [
  {
   "cell_type": "code",
   "execution_count": 2,
   "metadata": {},
   "outputs": [
    {
     "name": "stdout",
     "output_type": "stream",
     "text": [
      "1/1 [==============================] - 0s 268ms/step\n",
      "The image contains food!\n"
     ]
    }
   ],
   "source": [
    "import cv2\n",
    "import numpy as np\n",
    "from keras.applications.vgg16 import VGG16, preprocess_input, decode_predictions\n",
    "from keras.preprocessing import image\n",
    "\n",
    "# Load the VGG16 model with pre-trained weights\n",
    "model = VGG16(weights='imagenet')\n",
    "\n",
    "# Load the image\n",
    "image_path = 'fridge.png'  # Change this to the path of your 'fridge.png' image\n",
    "img = image.load_img(image_path, target_size=(224, 224))\n",
    "x = image.img_to_array(img)\n",
    "x = np.expand_dims(x, axis=0)\n",
    "x = preprocess_input(x)\n",
    "\n",
    "# Predict the image class\n",
    "predictions = model.predict(x)\n",
    "decoded_predictions = decode_predictions(predictions, top=5)[0]\n",
    "\n",
    "# Check if any of the top-5 predicted classes contain food-related labels\n",
    "food_labels = [\"banana\", \"apple\", \"pizza\", \"sandwich\", \"spaghetti\", \"ice_cream\", \"hotdog\", \"sushi\", \"steak\"]\n",
    "contains_food = any(label.lower() in label.lower() for (_, label, _) in decoded_predictions)\n",
    "\n",
    "# Display the results\n",
    "if contains_food:\n",
    "    print(\"The image contains food!\")\n",
    "else:\n",
    "    print(\"The image does not contain food.\")\n"
   ]
  },
  {
   "cell_type": "markdown",
   "metadata": {},
   "source": [
    "## This bad boy can fit so much unused code"
   ]
  }
 ],
 "metadata": {
  "kernelspec": {
   "display_name": "Python 3",
   "language": "python",
   "name": "python3"
  },
  "language_info": {
   "codemirror_mode": {
    "name": "ipython",
    "version": 3
   },
   "file_extension": ".py",
   "mimetype": "text/x-python",
   "name": "python",
   "nbconvert_exporter": "python",
   "pygments_lexer": "ipython3",
   "version": "3.11.4"
  },
  "orig_nbformat": 4
 },
 "nbformat": 4,
 "nbformat_minor": 2
}
